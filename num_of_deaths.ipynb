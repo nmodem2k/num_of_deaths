{
 "cells": [
  {
   "cell_type": "code",
   "execution_count": 460,
   "metadata": {},
   "outputs": [],
   "source": [
    "import pandas as pd\n",
    "import numpy as np\n",
    "df=pd.read_csv('train.csv')"
   ]
  },
  {
   "cell_type": "code",
   "execution_count": 461,
   "metadata": {},
   "outputs": [],
   "source": [
    "x=df.drop('Death_Count',axis=1)\n",
    "y=df['Death_Count']"
   ]
  },
  {
   "cell_type": "code",
   "execution_count": 462,
   "metadata": {},
   "outputs": [],
   "source": [
    "date=df['Date']"
   ]
  },
  {
   "cell_type": "code",
   "execution_count": 463,
   "metadata": {},
   "outputs": [
    {
     "data": {
      "text/plain": [
       "0    12-07-2017\n",
       "1    30-01-2019\n",
       "2    24-06-2018\n",
       "3    19-06-2018\n",
       "4    19-11-2018\n",
       "Name: Date, dtype: object"
      ]
     },
     "execution_count": 463,
     "metadata": {},
     "output_type": "execute_result"
    }
   ],
   "source": [
    "date.head()"
   ]
  },
  {
   "cell_type": "code",
   "execution_count": 464,
   "metadata": {},
   "outputs": [],
   "source": [
    "Date=[]\n",
    "Month=[]\n",
    "Year=[]\n",
    "for line in date:\n",
    "  line=line.split('-')\n",
    "  day=line[0].strip()\n",
    "  month=line[1].strip()\n",
    "  year=line[2].strip()\n",
    "  Date.append(int(day))\n",
    "  Month.append(int(month))\n",
    "  Year.append(int(year))"
   ]
  },
  {
   "cell_type": "code",
   "execution_count": 465,
   "metadata": {},
   "outputs": [],
   "source": [
    "x['date']=Date"
   ]
  },
  {
   "cell_type": "code",
   "execution_count": 466,
   "metadata": {},
   "outputs": [],
   "source": [
    "x['month']=Month"
   ]
  },
  {
   "cell_type": "code",
   "execution_count": 467,
   "metadata": {},
   "outputs": [],
   "source": [
    "x['year']=Year"
   ]
  },
  {
   "cell_type": "code",
   "execution_count": 468,
   "metadata": {},
   "outputs": [],
   "source": [
    "x=x.drop('Date',axis=1)"
   ]
  },
  {
   "cell_type": "code",
   "execution_count": 469,
   "metadata": {},
   "outputs": [
    {
     "data": {
      "text/html": [
       "<div>\n",
       "<style scoped>\n",
       "    .dataframe tbody tr th:only-of-type {\n",
       "        vertical-align: middle;\n",
       "    }\n",
       "\n",
       "    .dataframe tbody tr th {\n",
       "        vertical-align: top;\n",
       "    }\n",
       "\n",
       "    .dataframe thead th {\n",
       "        text-align: right;\n",
       "    }\n",
       "</style>\n",
       "<table border=\"1\" class=\"dataframe\">\n",
       "  <thead>\n",
       "    <tr style=\"text-align: right;\">\n",
       "      <th></th>\n",
       "      <th>Galaxy</th>\n",
       "      <th>Planet_ID</th>\n",
       "      <th>Country</th>\n",
       "      <th>Disaster</th>\n",
       "      <th>date</th>\n",
       "      <th>month</th>\n",
       "      <th>year</th>\n",
       "    </tr>\n",
       "  </thead>\n",
       "  <tbody>\n",
       "    <tr>\n",
       "      <th>0</th>\n",
       "      <td>Milky Way</td>\n",
       "      <td>62.0</td>\n",
       "      <td>New Zealand</td>\n",
       "      <td>Landslide</td>\n",
       "      <td>12</td>\n",
       "      <td>7</td>\n",
       "      <td>2017</td>\n",
       "    </tr>\n",
       "    <tr>\n",
       "      <th>1</th>\n",
       "      <td>Milky Way</td>\n",
       "      <td>8.0</td>\n",
       "      <td>Mongolia</td>\n",
       "      <td>Earthquake</td>\n",
       "      <td>30</td>\n",
       "      <td>1</td>\n",
       "      <td>2019</td>\n",
       "    </tr>\n",
       "    <tr>\n",
       "      <th>2</th>\n",
       "      <td>Milky Way</td>\n",
       "      <td>249.0</td>\n",
       "      <td>North Korea</td>\n",
       "      <td>Volcano</td>\n",
       "      <td>24</td>\n",
       "      <td>6</td>\n",
       "      <td>2018</td>\n",
       "    </tr>\n",
       "    <tr>\n",
       "      <th>3</th>\n",
       "      <td>Milky Way</td>\n",
       "      <td>74.0</td>\n",
       "      <td>North Korea</td>\n",
       "      <td>Volcano</td>\n",
       "      <td>19</td>\n",
       "      <td>6</td>\n",
       "      <td>2018</td>\n",
       "    </tr>\n",
       "    <tr>\n",
       "      <th>4</th>\n",
       "      <td>Milky Way</td>\n",
       "      <td>270.0</td>\n",
       "      <td>UK</td>\n",
       "      <td>Earthquake</td>\n",
       "      <td>19</td>\n",
       "      <td>11</td>\n",
       "      <td>2018</td>\n",
       "    </tr>\n",
       "  </tbody>\n",
       "</table>\n",
       "</div>"
      ],
      "text/plain": [
       "      Galaxy  Planet_ID      Country    Disaster  date  month  year\n",
       "0  Milky Way       62.0  New Zealand   Landslide    12      7  2017\n",
       "1  Milky Way        8.0     Mongolia  Earthquake    30      1  2019\n",
       "2  Milky Way      249.0  North Korea     Volcano    24      6  2018\n",
       "3  Milky Way       74.0  North Korea     Volcano    19      6  2018\n",
       "4  Milky Way      270.0           UK  Earthquake    19     11  2018"
      ]
     },
     "execution_count": 469,
     "metadata": {},
     "output_type": "execute_result"
    }
   ],
   "source": [
    "x.head()"
   ]
  },
  {
   "cell_type": "code",
   "execution_count": 470,
   "metadata": {},
   "outputs": [
    {
     "data": {
      "text/plain": [
       "0         Landslide\n",
       "1        Earthquake\n",
       "2           Volcano\n",
       "3           Volcano\n",
       "4        Earthquake\n",
       "            ...    \n",
       "64316    Earthquake\n",
       "64317       Volcano\n",
       "64318           NaN\n",
       "64319     Landslide\n",
       "64320         Flood\n",
       "Name: Disaster, Length: 64321, dtype: object"
      ]
     },
     "execution_count": 470,
     "metadata": {},
     "output_type": "execute_result"
    }
   ],
   "source": [
    "x['Disaster']"
   ]
  },
  {
   "cell_type": "code",
   "execution_count": 471,
   "metadata": {},
   "outputs": [
    {
     "data": {
      "text/html": [
       "<div>\n",
       "<style scoped>\n",
       "    .dataframe tbody tr th:only-of-type {\n",
       "        vertical-align: middle;\n",
       "    }\n",
       "\n",
       "    .dataframe tbody tr th {\n",
       "        vertical-align: top;\n",
       "    }\n",
       "\n",
       "    .dataframe thead th {\n",
       "        text-align: right;\n",
       "    }\n",
       "</style>\n",
       "<table border=\"1\" class=\"dataframe\">\n",
       "  <thead>\n",
       "    <tr style=\"text-align: right;\">\n",
       "      <th></th>\n",
       "      <th>Galaxy</th>\n",
       "      <th>Country</th>\n",
       "      <th>Disaster</th>\n",
       "      <th>date</th>\n",
       "      <th>month</th>\n",
       "      <th>year</th>\n",
       "    </tr>\n",
       "  </thead>\n",
       "  <tbody>\n",
       "    <tr>\n",
       "      <th>0</th>\n",
       "      <td>Milky Way</td>\n",
       "      <td>New Zealand</td>\n",
       "      <td>Landslide</td>\n",
       "      <td>12</td>\n",
       "      <td>7</td>\n",
       "      <td>2017</td>\n",
       "    </tr>\n",
       "    <tr>\n",
       "      <th>1</th>\n",
       "      <td>Milky Way</td>\n",
       "      <td>Mongolia</td>\n",
       "      <td>Earthquake</td>\n",
       "      <td>30</td>\n",
       "      <td>1</td>\n",
       "      <td>2019</td>\n",
       "    </tr>\n",
       "    <tr>\n",
       "      <th>2</th>\n",
       "      <td>Milky Way</td>\n",
       "      <td>North Korea</td>\n",
       "      <td>Volcano</td>\n",
       "      <td>24</td>\n",
       "      <td>6</td>\n",
       "      <td>2018</td>\n",
       "    </tr>\n",
       "    <tr>\n",
       "      <th>3</th>\n",
       "      <td>Milky Way</td>\n",
       "      <td>North Korea</td>\n",
       "      <td>Volcano</td>\n",
       "      <td>19</td>\n",
       "      <td>6</td>\n",
       "      <td>2018</td>\n",
       "    </tr>\n",
       "    <tr>\n",
       "      <th>4</th>\n",
       "      <td>Milky Way</td>\n",
       "      <td>UK</td>\n",
       "      <td>Earthquake</td>\n",
       "      <td>19</td>\n",
       "      <td>11</td>\n",
       "      <td>2018</td>\n",
       "    </tr>\n",
       "  </tbody>\n",
       "</table>\n",
       "</div>"
      ],
      "text/plain": [
       "      Galaxy      Country    Disaster  date  month  year\n",
       "0  Milky Way  New Zealand   Landslide    12      7  2017\n",
       "1  Milky Way     Mongolia  Earthquake    30      1  2019\n",
       "2  Milky Way  North Korea     Volcano    24      6  2018\n",
       "3  Milky Way  North Korea     Volcano    19      6  2018\n",
       "4  Milky Way           UK  Earthquake    19     11  2018"
      ]
     },
     "execution_count": 471,
     "metadata": {},
     "output_type": "execute_result"
    }
   ],
   "source": [
    "x=x.drop('Planet_ID',axis=1)\n",
    "x.head()"
   ]
  },
  {
   "cell_type": "code",
   "execution_count": 472,
   "metadata": {},
   "outputs": [],
   "source": [
    "type_of_disaster=[]\n",
    "for i in x['Disaster']:\n",
    "  if i not in type_of_disaster:\n",
    "    type_of_disaster.append(i)"
   ]
  },
  {
   "cell_type": "code",
   "execution_count": 473,
   "metadata": {},
   "outputs": [
    {
     "data": {
      "text/plain": [
       "['Landslide', 'Earthquake', 'Volcano', 'Flood', nan, 'BushFIre']"
      ]
     },
     "execution_count": 473,
     "metadata": {},
     "output_type": "execute_result"
    }
   ],
   "source": [
    "type_of_disaster"
   ]
  },
  {
   "cell_type": "code",
   "execution_count": 474,
   "metadata": {},
   "outputs": [],
   "source": [
    "index_of_disaster=[]\n",
    "for i in x['Disaster']:\n",
    "  z=type_of_disaster.index(i)\n",
    "  index_of_disaster.append(z)"
   ]
  },
  {
   "cell_type": "code",
   "execution_count": 475,
   "metadata": {},
   "outputs": [],
   "source": [
    "x=x.drop('Disaster',axis=1)"
   ]
  },
  {
   "cell_type": "code",
   "execution_count": 476,
   "metadata": {},
   "outputs": [],
   "source": [
    "x['Disaster']=index_of_disaster"
   ]
  },
  {
   "cell_type": "code",
   "execution_count": 477,
   "metadata": {},
   "outputs": [
    {
     "data": {
      "text/html": [
       "<div>\n",
       "<style scoped>\n",
       "    .dataframe tbody tr th:only-of-type {\n",
       "        vertical-align: middle;\n",
       "    }\n",
       "\n",
       "    .dataframe tbody tr th {\n",
       "        vertical-align: top;\n",
       "    }\n",
       "\n",
       "    .dataframe thead th {\n",
       "        text-align: right;\n",
       "    }\n",
       "</style>\n",
       "<table border=\"1\" class=\"dataframe\">\n",
       "  <thead>\n",
       "    <tr style=\"text-align: right;\">\n",
       "      <th></th>\n",
       "      <th>Galaxy</th>\n",
       "      <th>Country</th>\n",
       "      <th>date</th>\n",
       "      <th>month</th>\n",
       "      <th>year</th>\n",
       "      <th>Disaster</th>\n",
       "    </tr>\n",
       "  </thead>\n",
       "  <tbody>\n",
       "    <tr>\n",
       "      <th>0</th>\n",
       "      <td>Milky Way</td>\n",
       "      <td>New Zealand</td>\n",
       "      <td>12</td>\n",
       "      <td>7</td>\n",
       "      <td>2017</td>\n",
       "      <td>0</td>\n",
       "    </tr>\n",
       "    <tr>\n",
       "      <th>1</th>\n",
       "      <td>Milky Way</td>\n",
       "      <td>Mongolia</td>\n",
       "      <td>30</td>\n",
       "      <td>1</td>\n",
       "      <td>2019</td>\n",
       "      <td>1</td>\n",
       "    </tr>\n",
       "    <tr>\n",
       "      <th>2</th>\n",
       "      <td>Milky Way</td>\n",
       "      <td>North Korea</td>\n",
       "      <td>24</td>\n",
       "      <td>6</td>\n",
       "      <td>2018</td>\n",
       "      <td>2</td>\n",
       "    </tr>\n",
       "    <tr>\n",
       "      <th>3</th>\n",
       "      <td>Milky Way</td>\n",
       "      <td>North Korea</td>\n",
       "      <td>19</td>\n",
       "      <td>6</td>\n",
       "      <td>2018</td>\n",
       "      <td>2</td>\n",
       "    </tr>\n",
       "    <tr>\n",
       "      <th>4</th>\n",
       "      <td>Milky Way</td>\n",
       "      <td>UK</td>\n",
       "      <td>19</td>\n",
       "      <td>11</td>\n",
       "      <td>2018</td>\n",
       "      <td>1</td>\n",
       "    </tr>\n",
       "  </tbody>\n",
       "</table>\n",
       "</div>"
      ],
      "text/plain": [
       "      Galaxy      Country  date  month  year  Disaster\n",
       "0  Milky Way  New Zealand    12      7  2017         0\n",
       "1  Milky Way     Mongolia    30      1  2019         1\n",
       "2  Milky Way  North Korea    24      6  2018         2\n",
       "3  Milky Way  North Korea    19      6  2018         2\n",
       "4  Milky Way           UK    19     11  2018         1"
      ]
     },
     "execution_count": 477,
     "metadata": {},
     "output_type": "execute_result"
    }
   ],
   "source": [
    "x.head()"
   ]
  },
  {
   "cell_type": "code",
   "execution_count": 478,
   "metadata": {},
   "outputs": [],
   "source": [
    "country=[]\n",
    "for i in x['Country']:\n",
    "  if i not in country:\n",
    "    country.append(i)"
   ]
  },
  {
   "cell_type": "code",
   "execution_count": 479,
   "metadata": {},
   "outputs": [
    {
     "data": {
      "text/plain": [
       "['New Zealand',\n",
       " 'Mongolia',\n",
       " 'North Korea',\n",
       " 'UK',\n",
       " 'Japan',\n",
       " 'Pakistan',\n",
       " 'Spain',\n",
       " 'Singapore',\n",
       " 'India',\n",
       " 'China',\n",
       " 'Russia',\n",
       " 'Germany',\n",
       " 'Bangladesh',\n",
       " 'South Korea',\n",
       " 'Australia',\n",
       " 'Malaysia',\n",
       " 'France',\n",
       " 'Indonesia',\n",
       " 'USA',\n",
       " 'Canada']"
      ]
     },
     "execution_count": 479,
     "metadata": {},
     "output_type": "execute_result"
    }
   ],
   "source": [
    "country"
   ]
  },
  {
   "cell_type": "code",
   "execution_count": 480,
   "metadata": {},
   "outputs": [],
   "source": [
    "index_of_country=[]\n",
    "for i in x['Country']:\n",
    "  z=country.index(i)\n",
    "  index_of_country.append(z)"
   ]
  },
  {
   "cell_type": "code",
   "execution_count": 481,
   "metadata": {},
   "outputs": [],
   "source": [
    "x=x.drop('Country',axis=1)"
   ]
  },
  {
   "cell_type": "code",
   "execution_count": 482,
   "metadata": {},
   "outputs": [],
   "source": [
    "x['Country']=index_of_country"
   ]
  },
  {
   "cell_type": "code",
   "execution_count": 483,
   "metadata": {},
   "outputs": [
    {
     "data": {
      "text/html": [
       "<div>\n",
       "<style scoped>\n",
       "    .dataframe tbody tr th:only-of-type {\n",
       "        vertical-align: middle;\n",
       "    }\n",
       "\n",
       "    .dataframe tbody tr th {\n",
       "        vertical-align: top;\n",
       "    }\n",
       "\n",
       "    .dataframe thead th {\n",
       "        text-align: right;\n",
       "    }\n",
       "</style>\n",
       "<table border=\"1\" class=\"dataframe\">\n",
       "  <thead>\n",
       "    <tr style=\"text-align: right;\">\n",
       "      <th></th>\n",
       "      <th>Galaxy</th>\n",
       "      <th>date</th>\n",
       "      <th>month</th>\n",
       "      <th>year</th>\n",
       "      <th>Disaster</th>\n",
       "      <th>Country</th>\n",
       "    </tr>\n",
       "  </thead>\n",
       "  <tbody>\n",
       "    <tr>\n",
       "      <th>0</th>\n",
       "      <td>Milky Way</td>\n",
       "      <td>12</td>\n",
       "      <td>7</td>\n",
       "      <td>2017</td>\n",
       "      <td>0</td>\n",
       "      <td>0</td>\n",
       "    </tr>\n",
       "    <tr>\n",
       "      <th>1</th>\n",
       "      <td>Milky Way</td>\n",
       "      <td>30</td>\n",
       "      <td>1</td>\n",
       "      <td>2019</td>\n",
       "      <td>1</td>\n",
       "      <td>1</td>\n",
       "    </tr>\n",
       "    <tr>\n",
       "      <th>2</th>\n",
       "      <td>Milky Way</td>\n",
       "      <td>24</td>\n",
       "      <td>6</td>\n",
       "      <td>2018</td>\n",
       "      <td>2</td>\n",
       "      <td>2</td>\n",
       "    </tr>\n",
       "    <tr>\n",
       "      <th>3</th>\n",
       "      <td>Milky Way</td>\n",
       "      <td>19</td>\n",
       "      <td>6</td>\n",
       "      <td>2018</td>\n",
       "      <td>2</td>\n",
       "      <td>2</td>\n",
       "    </tr>\n",
       "    <tr>\n",
       "      <th>4</th>\n",
       "      <td>Milky Way</td>\n",
       "      <td>19</td>\n",
       "      <td>11</td>\n",
       "      <td>2018</td>\n",
       "      <td>1</td>\n",
       "      <td>3</td>\n",
       "    </tr>\n",
       "  </tbody>\n",
       "</table>\n",
       "</div>"
      ],
      "text/plain": [
       "      Galaxy  date  month  year  Disaster  Country\n",
       "0  Milky Way    12      7  2017         0        0\n",
       "1  Milky Way    30      1  2019         1        1\n",
       "2  Milky Way    24      6  2018         2        2\n",
       "3  Milky Way    19      6  2018         2        2\n",
       "4  Milky Way    19     11  2018         1        3"
      ]
     },
     "execution_count": 483,
     "metadata": {},
     "output_type": "execute_result"
    }
   ],
   "source": [
    "x.head()"
   ]
  },
  {
   "cell_type": "code",
   "execution_count": 484,
   "metadata": {},
   "outputs": [],
   "source": [
    "galaxy=x['  Galaxy']"
   ]
  },
  {
   "cell_type": "code",
   "execution_count": 485,
   "metadata": {},
   "outputs": [],
   "source": [
    "galaxy_index=list((galaxy=='Milky Way').astype(np.int))"
   ]
  },
  {
   "cell_type": "code",
   "execution_count": 486,
   "metadata": {},
   "outputs": [],
   "source": [
    "x=x.drop('  Galaxy',axis=1)"
   ]
  },
  {
   "cell_type": "code",
   "execution_count": 487,
   "metadata": {},
   "outputs": [],
   "source": [
    "x['Galaxy']=galaxy_index"
   ]
  },
  {
   "cell_type": "code",
   "execution_count": 488,
   "metadata": {},
   "outputs": [
    {
     "data": {
      "text/html": [
       "<div>\n",
       "<style scoped>\n",
       "    .dataframe tbody tr th:only-of-type {\n",
       "        vertical-align: middle;\n",
       "    }\n",
       "\n",
       "    .dataframe tbody tr th {\n",
       "        vertical-align: top;\n",
       "    }\n",
       "\n",
       "    .dataframe thead th {\n",
       "        text-align: right;\n",
       "    }\n",
       "</style>\n",
       "<table border=\"1\" class=\"dataframe\">\n",
       "  <thead>\n",
       "    <tr style=\"text-align: right;\">\n",
       "      <th></th>\n",
       "      <th>date</th>\n",
       "      <th>month</th>\n",
       "      <th>year</th>\n",
       "      <th>Disaster</th>\n",
       "      <th>Country</th>\n",
       "      <th>Galaxy</th>\n",
       "    </tr>\n",
       "  </thead>\n",
       "  <tbody>\n",
       "    <tr>\n",
       "      <th>0</th>\n",
       "      <td>12</td>\n",
       "      <td>7</td>\n",
       "      <td>2017</td>\n",
       "      <td>0</td>\n",
       "      <td>0</td>\n",
       "      <td>1</td>\n",
       "    </tr>\n",
       "    <tr>\n",
       "      <th>1</th>\n",
       "      <td>30</td>\n",
       "      <td>1</td>\n",
       "      <td>2019</td>\n",
       "      <td>1</td>\n",
       "      <td>1</td>\n",
       "      <td>1</td>\n",
       "    </tr>\n",
       "    <tr>\n",
       "      <th>2</th>\n",
       "      <td>24</td>\n",
       "      <td>6</td>\n",
       "      <td>2018</td>\n",
       "      <td>2</td>\n",
       "      <td>2</td>\n",
       "      <td>1</td>\n",
       "    </tr>\n",
       "    <tr>\n",
       "      <th>3</th>\n",
       "      <td>19</td>\n",
       "      <td>6</td>\n",
       "      <td>2018</td>\n",
       "      <td>2</td>\n",
       "      <td>2</td>\n",
       "      <td>1</td>\n",
       "    </tr>\n",
       "    <tr>\n",
       "      <th>4</th>\n",
       "      <td>19</td>\n",
       "      <td>11</td>\n",
       "      <td>2018</td>\n",
       "      <td>1</td>\n",
       "      <td>3</td>\n",
       "      <td>1</td>\n",
       "    </tr>\n",
       "  </tbody>\n",
       "</table>\n",
       "</div>"
      ],
      "text/plain": [
       "   date  month  year  Disaster  Country  Galaxy\n",
       "0    12      7  2017         0        0       1\n",
       "1    30      1  2019         1        1       1\n",
       "2    24      6  2018         2        2       1\n",
       "3    19      6  2018         2        2       1\n",
       "4    19     11  2018         1        3       1"
      ]
     },
     "execution_count": 488,
     "metadata": {},
     "output_type": "execute_result"
    }
   ],
   "source": [
    "x.head()"
   ]
  },
  {
   "cell_type": "code",
   "execution_count": 489,
   "metadata": {},
   "outputs": [],
   "source": [
    "from keras.models import Sequential\n",
    "from keras.layers import *"
   ]
  },
  {
   "cell_type": "code",
   "execution_count": 490,
   "metadata": {},
   "outputs": [],
   "source": [
    "from sklearn.preprocessing import MinMaxScaler"
   ]
  },
  {
   "cell_type": "code",
   "execution_count": 491,
   "metadata": {},
   "outputs": [],
   "source": [
    "x_train=x\n",
    "y_train=y"
   ]
  },
  {
   "cell_type": "code",
   "execution_count": 492,
   "metadata": {},
   "outputs": [],
   "source": [
    "df1=pd.read_csv('test.csv')"
   ]
  },
  {
   "cell_type": "code",
   "execution_count": 493,
   "metadata": {},
   "outputs": [],
   "source": [
    "df1=df1.drop('Death_Count',axis=1)"
   ]
  },
  {
   "cell_type": "code",
   "execution_count": 494,
   "metadata": {},
   "outputs": [],
   "source": [
    "date1=df1['Date']"
   ]
  },
  {
   "cell_type": "code",
   "execution_count": 495,
   "metadata": {},
   "outputs": [],
   "source": [
    "Date=[]\n",
    "Month=[]\n",
    "Year=[]\n",
    "for line in date1:\n",
    "  line=line.split('-')\n",
    "  day=line[0].strip()\n",
    "  month=line[1].strip()\n",
    "  year=line[2].strip()\n",
    "  Date.append(int(day))\n",
    "  Month.append(int(month))\n",
    "  Year.append(int(year))"
   ]
  },
  {
   "cell_type": "code",
   "execution_count": 496,
   "metadata": {},
   "outputs": [],
   "source": [
    "x1=df1"
   ]
  },
  {
   "cell_type": "code",
   "execution_count": 497,
   "metadata": {},
   "outputs": [],
   "source": [
    "x1['date']=Date"
   ]
  },
  {
   "cell_type": "code",
   "execution_count": 498,
   "metadata": {},
   "outputs": [],
   "source": [
    "x1['month']=Month"
   ]
  },
  {
   "cell_type": "code",
   "execution_count": 499,
   "metadata": {},
   "outputs": [],
   "source": [
    "x1['year']=Year"
   ]
  },
  {
   "cell_type": "code",
   "execution_count": 500,
   "metadata": {},
   "outputs": [],
   "source": [
    "x1=x1.drop('Date',axis=1)"
   ]
  },
  {
   "cell_type": "code",
   "execution_count": 501,
   "metadata": {},
   "outputs": [
    {
     "data": {
      "text/html": [
       "<div>\n",
       "<style scoped>\n",
       "    .dataframe tbody tr th:only-of-type {\n",
       "        vertical-align: middle;\n",
       "    }\n",
       "\n",
       "    .dataframe tbody tr th {\n",
       "        vertical-align: top;\n",
       "    }\n",
       "\n",
       "    .dataframe thead th {\n",
       "        text-align: right;\n",
       "    }\n",
       "</style>\n",
       "<table border=\"1\" class=\"dataframe\">\n",
       "  <thead>\n",
       "    <tr style=\"text-align: right;\">\n",
       "      <th></th>\n",
       "      <th>Galaxy</th>\n",
       "      <th>Planet_ID</th>\n",
       "      <th>Country</th>\n",
       "      <th>Disaster</th>\n",
       "      <th>date</th>\n",
       "      <th>month</th>\n",
       "      <th>year</th>\n",
       "    </tr>\n",
       "  </thead>\n",
       "  <tbody>\n",
       "    <tr>\n",
       "      <th>0</th>\n",
       "      <td>Sombrero</td>\n",
       "      <td>NaN</td>\n",
       "      <td>Bangladesh</td>\n",
       "      <td>NaN</td>\n",
       "      <td>14</td>\n",
       "      <td>6</td>\n",
       "      <td>2017</td>\n",
       "    </tr>\n",
       "    <tr>\n",
       "      <th>1</th>\n",
       "      <td>Milky Way</td>\n",
       "      <td>267.0</td>\n",
       "      <td>France</td>\n",
       "      <td>Flood</td>\n",
       "      <td>23</td>\n",
       "      <td>3</td>\n",
       "      <td>2019</td>\n",
       "    </tr>\n",
       "    <tr>\n",
       "      <th>2</th>\n",
       "      <td>Milky Way</td>\n",
       "      <td>267.0</td>\n",
       "      <td>France</td>\n",
       "      <td>Flood</td>\n",
       "      <td>1</td>\n",
       "      <td>12</td>\n",
       "      <td>2018</td>\n",
       "    </tr>\n",
       "    <tr>\n",
       "      <th>3</th>\n",
       "      <td>Milky Way</td>\n",
       "      <td>267.0</td>\n",
       "      <td>France</td>\n",
       "      <td>Flood</td>\n",
       "      <td>7</td>\n",
       "      <td>6</td>\n",
       "      <td>2017</td>\n",
       "    </tr>\n",
       "    <tr>\n",
       "      <th>4</th>\n",
       "      <td>Milky Way</td>\n",
       "      <td>43.0</td>\n",
       "      <td>Spain</td>\n",
       "      <td>Flood</td>\n",
       "      <td>3</td>\n",
       "      <td>10</td>\n",
       "      <td>2017</td>\n",
       "    </tr>\n",
       "  </tbody>\n",
       "</table>\n",
       "</div>"
      ],
      "text/plain": [
       "      Galaxy  Planet_ID     Country Disaster  date  month  year\n",
       "0   Sombrero        NaN  Bangladesh      NaN    14      6  2017\n",
       "1  Milky Way      267.0      France    Flood    23      3  2019\n",
       "2  Milky Way      267.0      France    Flood     1     12  2018\n",
       "3  Milky Way      267.0      France    Flood     7      6  2017\n",
       "4  Milky Way       43.0       Spain    Flood     3     10  2017"
      ]
     },
     "execution_count": 501,
     "metadata": {},
     "output_type": "execute_result"
    }
   ],
   "source": [
    "x1.head()"
   ]
  },
  {
   "cell_type": "code",
   "execution_count": 502,
   "metadata": {},
   "outputs": [
    {
     "data": {
      "text/html": [
       "<div>\n",
       "<style scoped>\n",
       "    .dataframe tbody tr th:only-of-type {\n",
       "        vertical-align: middle;\n",
       "    }\n",
       "\n",
       "    .dataframe tbody tr th {\n",
       "        vertical-align: top;\n",
       "    }\n",
       "\n",
       "    .dataframe thead th {\n",
       "        text-align: right;\n",
       "    }\n",
       "</style>\n",
       "<table border=\"1\" class=\"dataframe\">\n",
       "  <thead>\n",
       "    <tr style=\"text-align: right;\">\n",
       "      <th></th>\n",
       "      <th>Galaxy</th>\n",
       "      <th>Country</th>\n",
       "      <th>Disaster</th>\n",
       "      <th>date</th>\n",
       "      <th>month</th>\n",
       "      <th>year</th>\n",
       "    </tr>\n",
       "  </thead>\n",
       "  <tbody>\n",
       "    <tr>\n",
       "      <th>0</th>\n",
       "      <td>Sombrero</td>\n",
       "      <td>Bangladesh</td>\n",
       "      <td>NaN</td>\n",
       "      <td>14</td>\n",
       "      <td>6</td>\n",
       "      <td>2017</td>\n",
       "    </tr>\n",
       "    <tr>\n",
       "      <th>1</th>\n",
       "      <td>Milky Way</td>\n",
       "      <td>France</td>\n",
       "      <td>Flood</td>\n",
       "      <td>23</td>\n",
       "      <td>3</td>\n",
       "      <td>2019</td>\n",
       "    </tr>\n",
       "    <tr>\n",
       "      <th>2</th>\n",
       "      <td>Milky Way</td>\n",
       "      <td>France</td>\n",
       "      <td>Flood</td>\n",
       "      <td>1</td>\n",
       "      <td>12</td>\n",
       "      <td>2018</td>\n",
       "    </tr>\n",
       "    <tr>\n",
       "      <th>3</th>\n",
       "      <td>Milky Way</td>\n",
       "      <td>France</td>\n",
       "      <td>Flood</td>\n",
       "      <td>7</td>\n",
       "      <td>6</td>\n",
       "      <td>2017</td>\n",
       "    </tr>\n",
       "    <tr>\n",
       "      <th>4</th>\n",
       "      <td>Milky Way</td>\n",
       "      <td>Spain</td>\n",
       "      <td>Flood</td>\n",
       "      <td>3</td>\n",
       "      <td>10</td>\n",
       "      <td>2017</td>\n",
       "    </tr>\n",
       "  </tbody>\n",
       "</table>\n",
       "</div>"
      ],
      "text/plain": [
       "      Galaxy     Country Disaster  date  month  year\n",
       "0   Sombrero  Bangladesh      NaN    14      6  2017\n",
       "1  Milky Way      France    Flood    23      3  2019\n",
       "2  Milky Way      France    Flood     1     12  2018\n",
       "3  Milky Way      France    Flood     7      6  2017\n",
       "4  Milky Way       Spain    Flood     3     10  2017"
      ]
     },
     "execution_count": 502,
     "metadata": {},
     "output_type": "execute_result"
    }
   ],
   "source": [
    "x1=x1.drop('Planet_ID',axis=1)\n",
    "x1.head()"
   ]
  },
  {
   "cell_type": "code",
   "execution_count": 503,
   "metadata": {},
   "outputs": [],
   "source": [
    "type_of_disaster=[]\n",
    "for i in x1['Disaster']:\n",
    "  if i not in type_of_disaster:\n",
    "    type_of_disaster.append(i)"
   ]
  },
  {
   "cell_type": "code",
   "execution_count": 504,
   "metadata": {},
   "outputs": [],
   "source": [
    "index_of_disaster=[]\n",
    "for i in x1['Disaster']:\n",
    "  z=type_of_disaster.index(i)\n",
    "  index_of_disaster.append(z)"
   ]
  },
  {
   "cell_type": "code",
   "execution_count": 505,
   "metadata": {},
   "outputs": [],
   "source": [
    "x1=x1.drop('Disaster',axis=1)"
   ]
  },
  {
   "cell_type": "code",
   "execution_count": 506,
   "metadata": {},
   "outputs": [],
   "source": [
    "x1['Disaster']=index_of_disaster"
   ]
  },
  {
   "cell_type": "code",
   "execution_count": 507,
   "metadata": {},
   "outputs": [
    {
     "data": {
      "text/html": [
       "<div>\n",
       "<style scoped>\n",
       "    .dataframe tbody tr th:only-of-type {\n",
       "        vertical-align: middle;\n",
       "    }\n",
       "\n",
       "    .dataframe tbody tr th {\n",
       "        vertical-align: top;\n",
       "    }\n",
       "\n",
       "    .dataframe thead th {\n",
       "        text-align: right;\n",
       "    }\n",
       "</style>\n",
       "<table border=\"1\" class=\"dataframe\">\n",
       "  <thead>\n",
       "    <tr style=\"text-align: right;\">\n",
       "      <th></th>\n",
       "      <th>Galaxy</th>\n",
       "      <th>Country</th>\n",
       "      <th>date</th>\n",
       "      <th>month</th>\n",
       "      <th>year</th>\n",
       "      <th>Disaster</th>\n",
       "    </tr>\n",
       "  </thead>\n",
       "  <tbody>\n",
       "    <tr>\n",
       "      <th>0</th>\n",
       "      <td>Sombrero</td>\n",
       "      <td>Bangladesh</td>\n",
       "      <td>14</td>\n",
       "      <td>6</td>\n",
       "      <td>2017</td>\n",
       "      <td>0</td>\n",
       "    </tr>\n",
       "    <tr>\n",
       "      <th>1</th>\n",
       "      <td>Milky Way</td>\n",
       "      <td>France</td>\n",
       "      <td>23</td>\n",
       "      <td>3</td>\n",
       "      <td>2019</td>\n",
       "      <td>1</td>\n",
       "    </tr>\n",
       "    <tr>\n",
       "      <th>2</th>\n",
       "      <td>Milky Way</td>\n",
       "      <td>France</td>\n",
       "      <td>1</td>\n",
       "      <td>12</td>\n",
       "      <td>2018</td>\n",
       "      <td>1</td>\n",
       "    </tr>\n",
       "    <tr>\n",
       "      <th>3</th>\n",
       "      <td>Milky Way</td>\n",
       "      <td>France</td>\n",
       "      <td>7</td>\n",
       "      <td>6</td>\n",
       "      <td>2017</td>\n",
       "      <td>1</td>\n",
       "    </tr>\n",
       "    <tr>\n",
       "      <th>4</th>\n",
       "      <td>Milky Way</td>\n",
       "      <td>Spain</td>\n",
       "      <td>3</td>\n",
       "      <td>10</td>\n",
       "      <td>2017</td>\n",
       "      <td>1</td>\n",
       "    </tr>\n",
       "  </tbody>\n",
       "</table>\n",
       "</div>"
      ],
      "text/plain": [
       "      Galaxy     Country  date  month  year  Disaster\n",
       "0   Sombrero  Bangladesh    14      6  2017         0\n",
       "1  Milky Way      France    23      3  2019         1\n",
       "2  Milky Way      France     1     12  2018         1\n",
       "3  Milky Way      France     7      6  2017         1\n",
       "4  Milky Way       Spain     3     10  2017         1"
      ]
     },
     "execution_count": 507,
     "metadata": {},
     "output_type": "execute_result"
    }
   ],
   "source": [
    "x1.head()"
   ]
  },
  {
   "cell_type": "code",
   "execution_count": 508,
   "metadata": {},
   "outputs": [],
   "source": [
    "country=[]\n",
    "for i in x1['Country']:\n",
    "  if i not in country:\n",
    "    country.append(i)"
   ]
  },
  {
   "cell_type": "code",
   "execution_count": 509,
   "metadata": {},
   "outputs": [],
   "source": [
    "index_of_country=[]\n",
    "for i in x1['Country']:\n",
    "  z=country.index(i)\n",
    "  index_of_country.append(z)"
   ]
  },
  {
   "cell_type": "code",
   "execution_count": 510,
   "metadata": {},
   "outputs": [],
   "source": [
    "x1=x1.drop('Country',axis=1)"
   ]
  },
  {
   "cell_type": "code",
   "execution_count": 511,
   "metadata": {},
   "outputs": [],
   "source": [
    "x1['Country']=index_of_country"
   ]
  },
  {
   "cell_type": "code",
   "execution_count": 512,
   "metadata": {},
   "outputs": [
    {
     "data": {
      "text/html": [
       "<div>\n",
       "<style scoped>\n",
       "    .dataframe tbody tr th:only-of-type {\n",
       "        vertical-align: middle;\n",
       "    }\n",
       "\n",
       "    .dataframe tbody tr th {\n",
       "        vertical-align: top;\n",
       "    }\n",
       "\n",
       "    .dataframe thead th {\n",
       "        text-align: right;\n",
       "    }\n",
       "</style>\n",
       "<table border=\"1\" class=\"dataframe\">\n",
       "  <thead>\n",
       "    <tr style=\"text-align: right;\">\n",
       "      <th></th>\n",
       "      <th>Galaxy</th>\n",
       "      <th>date</th>\n",
       "      <th>month</th>\n",
       "      <th>year</th>\n",
       "      <th>Disaster</th>\n",
       "      <th>Country</th>\n",
       "    </tr>\n",
       "  </thead>\n",
       "  <tbody>\n",
       "    <tr>\n",
       "      <th>0</th>\n",
       "      <td>Sombrero</td>\n",
       "      <td>14</td>\n",
       "      <td>6</td>\n",
       "      <td>2017</td>\n",
       "      <td>0</td>\n",
       "      <td>0</td>\n",
       "    </tr>\n",
       "    <tr>\n",
       "      <th>1</th>\n",
       "      <td>Milky Way</td>\n",
       "      <td>23</td>\n",
       "      <td>3</td>\n",
       "      <td>2019</td>\n",
       "      <td>1</td>\n",
       "      <td>1</td>\n",
       "    </tr>\n",
       "    <tr>\n",
       "      <th>2</th>\n",
       "      <td>Milky Way</td>\n",
       "      <td>1</td>\n",
       "      <td>12</td>\n",
       "      <td>2018</td>\n",
       "      <td>1</td>\n",
       "      <td>1</td>\n",
       "    </tr>\n",
       "    <tr>\n",
       "      <th>3</th>\n",
       "      <td>Milky Way</td>\n",
       "      <td>7</td>\n",
       "      <td>6</td>\n",
       "      <td>2017</td>\n",
       "      <td>1</td>\n",
       "      <td>1</td>\n",
       "    </tr>\n",
       "    <tr>\n",
       "      <th>4</th>\n",
       "      <td>Milky Way</td>\n",
       "      <td>3</td>\n",
       "      <td>10</td>\n",
       "      <td>2017</td>\n",
       "      <td>1</td>\n",
       "      <td>2</td>\n",
       "    </tr>\n",
       "  </tbody>\n",
       "</table>\n",
       "</div>"
      ],
      "text/plain": [
       "      Galaxy  date  month  year  Disaster  Country\n",
       "0   Sombrero    14      6  2017         0        0\n",
       "1  Milky Way    23      3  2019         1        1\n",
       "2  Milky Way     1     12  2018         1        1\n",
       "3  Milky Way     7      6  2017         1        1\n",
       "4  Milky Way     3     10  2017         1        2"
      ]
     },
     "execution_count": 512,
     "metadata": {},
     "output_type": "execute_result"
    }
   ],
   "source": [
    "x1.head()"
   ]
  },
  {
   "cell_type": "code",
   "execution_count": 513,
   "metadata": {},
   "outputs": [],
   "source": [
    "galaxy=x1['  Galaxy']"
   ]
  },
  {
   "cell_type": "code",
   "execution_count": 514,
   "metadata": {},
   "outputs": [],
   "source": [
    "galaxy_index=list((galaxy=='Milky Way').astype(np.int))"
   ]
  },
  {
   "cell_type": "code",
   "execution_count": 515,
   "metadata": {},
   "outputs": [],
   "source": [
    "x1=x1.drop('  Galaxy',axis=1)"
   ]
  },
  {
   "cell_type": "code",
   "execution_count": 516,
   "metadata": {},
   "outputs": [],
   "source": [
    "x1['Galaxy']=galaxy_index"
   ]
  },
  {
   "cell_type": "code",
   "execution_count": 517,
   "metadata": {},
   "outputs": [],
   "source": [
    "x_test=x1"
   ]
  },
  {
   "cell_type": "code",
   "execution_count": 518,
   "metadata": {},
   "outputs": [
    {
     "name": "stdout",
     "output_type": "stream",
     "text": [
      "       date  month  year  Disaster  Country  Galaxy\n",
      "0        12      7  2017         0        0       1\n",
      "1        30      1  2019         1        1       1\n",
      "2        24      6  2018         2        2       1\n",
      "3        19      6  2018         2        2       1\n",
      "4        19     11  2018         1        3       1\n",
      "...     ...    ...   ...       ...      ...     ...\n",
      "64316     4      1  2019         1        1       1\n",
      "64317    25      6  2017         2        4       1\n",
      "64318    30     12  2018         4        0       0\n",
      "64319     1      6  2017         0       19       1\n",
      "64320    15      8  2018         3        6       1\n",
      "\n",
      "[64321 rows x 6 columns]\n"
     ]
    }
   ],
   "source": [
    "print(x_train)"
   ]
  },
  {
   "cell_type": "code",
   "execution_count": 519,
   "metadata": {},
   "outputs": [],
   "source": [
    "scaler=MinMaxScaler(feature_range=(0,1))"
   ]
  },
  {
   "cell_type": "code",
   "execution_count": null,
   "metadata": {},
   "outputs": [],
   "source": []
  },
  {
   "cell_type": "code",
   "execution_count": 520,
   "metadata": {},
   "outputs": [],
   "source": [
    "scaled_train=scaler.fit_transform(x_train)"
   ]
  },
  {
   "cell_type": "code",
   "execution_count": 521,
   "metadata": {},
   "outputs": [],
   "source": [
    "scaled_test=scaler.transform(x_test)"
   ]
  },
  {
   "cell_type": "code",
   "execution_count": 522,
   "metadata": {},
   "outputs": [
    {
     "data": {
      "text/plain": [
       "pandas.core.frame.DataFrame"
      ]
     },
     "execution_count": 522,
     "metadata": {},
     "output_type": "execute_result"
    }
   ],
   "source": [
    "type(x_train)"
   ]
  },
  {
   "cell_type": "code",
   "execution_count": 523,
   "metadata": {},
   "outputs": [],
   "source": [
    "scaled_train_data=pd.DataFrame(scaled_train,columns=x_train.columns.values)"
   ]
  },
  {
   "cell_type": "code",
   "execution_count": 524,
   "metadata": {},
   "outputs": [],
   "source": [
    "scaled_test_data=pd.DataFrame(scaled_test,columns=x_test.columns.values)"
   ]
  },
  {
   "cell_type": "code",
   "execution_count": 525,
   "metadata": {},
   "outputs": [],
   "source": [
    "trainingdata=scaled_train_data\n",
    "testingdata=scaled_test_data"
   ]
  },
  {
   "cell_type": "code",
   "execution_count": 526,
   "metadata": {},
   "outputs": [],
   "source": [
    "trainingdata=trainingdata.values\n",
    "testingdata=testingdata.values"
   ]
  },
  {
   "cell_type": "code",
   "execution_count": 527,
   "metadata": {},
   "outputs": [],
   "source": [
    "model=Sequential()"
   ]
  },
  {
   "cell_type": "code",
   "execution_count": 528,
   "metadata": {},
   "outputs": [],
   "source": [
    "model.add(Dense(100,input_dim=6,activation='relu',name='layer1'))"
   ]
  },
  {
   "cell_type": "code",
   "execution_count": 529,
   "metadata": {},
   "outputs": [],
   "source": [
    "model.add(Dense(100,activation='relu',name='layer2'))"
   ]
  },
  {
   "cell_type": "code",
   "execution_count": 530,
   "metadata": {},
   "outputs": [],
   "source": [
    "model.add(Dense(100,activation='relu',name='layer3'))"
   ]
  },
  {
   "cell_type": "code",
   "execution_count": 531,
   "metadata": {},
   "outputs": [],
   "source": [
    "model.add(Dense(1,activation='linear',name='layer4'))"
   ]
  },
  {
   "cell_type": "code",
   "execution_count": 532,
   "metadata": {},
   "outputs": [],
   "source": [
    "model.compile(loss='mean_squared_error',optimizer='adam')"
   ]
  },
  {
   "cell_type": "code",
   "execution_count": 533,
   "metadata": {},
   "outputs": [
    {
     "name": "stdout",
     "output_type": "stream",
     "text": [
      "Epoch 1/100\n",
      " - 6s - loss: 458434.9213\n",
      "Epoch 2/100\n",
      " - 4s - loss: 435682.9482\n",
      "Epoch 3/100\n",
      " - 6s - loss: 417967.7052\n",
      "Epoch 4/100\n",
      " - 6s - loss: 396233.0251\n",
      "Epoch 5/100\n",
      " - 4s - loss: 376358.1217\n",
      "Epoch 6/100\n",
      " - 6s - loss: 368368.2600\n",
      "Epoch 7/100\n",
      " - 6s - loss: 354858.1473\n",
      "Epoch 8/100\n",
      " - 4s - loss: 339603.4604\n",
      "Epoch 9/100\n",
      " - 5s - loss: 308122.2487\n",
      "Epoch 10/100\n",
      " - 5s - loss: 262203.4613\n",
      "Epoch 11/100\n",
      " - 4s - loss: 222186.3245\n",
      "Epoch 12/100\n",
      " - 5s - loss: 181685.0032\n",
      "Epoch 13/100\n",
      " - 5s - loss: 162527.5189\n",
      "Epoch 14/100\n",
      " - 5s - loss: 151745.0064\n",
      "Epoch 15/100\n",
      " - 4s - loss: 143842.7304\n",
      "Epoch 16/100\n",
      " - 6s - loss: 139453.4547\n",
      "Epoch 17/100\n",
      " - 5s - loss: 136161.0198\n",
      "Epoch 18/100\n",
      " - 4s - loss: 129214.3900\n",
      "Epoch 19/100\n",
      " - 6s - loss: 129804.0084\n",
      "Epoch 20/100\n",
      " - 6s - loss: 119282.4979\n",
      "Epoch 21/100\n",
      " - 4s - loss: 125369.5384\n",
      "Epoch 22/100\n",
      " - 6s - loss: 120596.7380\n",
      "Epoch 23/100\n",
      " - 5s - loss: 120374.7543\n",
      "Epoch 24/100\n",
      " - 4s - loss: 115561.8633\n",
      "Epoch 25/100\n",
      " - 6s - loss: 113467.8173\n",
      "Epoch 26/100\n",
      " - 5s - loss: 112448.9799\n",
      "Epoch 27/100\n",
      " - 5s - loss: 111445.2594\n",
      "Epoch 28/100\n",
      " - 5s - loss: 108867.6183\n",
      "Epoch 29/100\n",
      " - 5s - loss: 106468.7628\n",
      "Epoch 30/100\n",
      " - 5s - loss: 105040.9255\n",
      "Epoch 31/100\n",
      " - 4s - loss: 104835.7153\n",
      "Epoch 32/100\n",
      " - 5s - loss: 102828.7495\n",
      "Epoch 33/100\n",
      " - 5s - loss: 99128.1246\n",
      "Epoch 34/100\n",
      " - 5s - loss: 102081.7120\n",
      "Epoch 35/100\n",
      " - 6s - loss: 96131.1453\n",
      "Epoch 36/100\n",
      " - 5s - loss: 94032.7753\n",
      "Epoch 37/100\n",
      " - 4s - loss: 95777.8068\n",
      "Epoch 38/100\n",
      " - 5s - loss: 97237.7225\n",
      "Epoch 39/100\n",
      " - 5s - loss: 91260.5952\n",
      "Epoch 40/100\n",
      " - 4s - loss: 90437.2014\n",
      "Epoch 41/100\n",
      " - 6s - loss: 89471.6813\n",
      "Epoch 42/100\n",
      " - 6s - loss: 89303.9252\n",
      "Epoch 43/100\n",
      " - 4s - loss: 86288.6762\n",
      "Epoch 44/100\n",
      " - 5s - loss: 86063.3884\n",
      "Epoch 45/100\n",
      " - 5s - loss: 87069.8587\n",
      "Epoch 46/100\n",
      " - 5s - loss: 84594.6012\n",
      "Epoch 47/100\n",
      " - 5s - loss: 83341.4147\n",
      "Epoch 48/100\n",
      " - 5s - loss: 84922.4744\n",
      "Epoch 49/100\n",
      " - 5s - loss: 82232.1612\n",
      "Epoch 50/100\n",
      " - 4s - loss: 84109.6110\n",
      "Epoch 51/100\n",
      " - 5s - loss: 81877.4859\n",
      "Epoch 52/100\n",
      " - 5s - loss: 83721.4397\n",
      "Epoch 53/100\n",
      " - 4s - loss: 81069.6865\n",
      "Epoch 54/100\n",
      " - 6s - loss: 80289.1053\n",
      "Epoch 55/100\n",
      " - 6s - loss: 79368.1863\n",
      "Epoch 56/100\n",
      " - 4s - loss: 81833.7342\n",
      "Epoch 57/100\n",
      " - 6s - loss: 78193.5229\n",
      "Epoch 58/100\n",
      " - 5s - loss: 79024.6023\n",
      "Epoch 59/100\n",
      " - 4s - loss: 75847.8201\n",
      "Epoch 60/100\n",
      " - 5s - loss: 76667.5847\n",
      "Epoch 61/100\n",
      " - 5s - loss: 77979.6000\n",
      "Epoch 62/100\n",
      " - 4s - loss: 74299.0509\n",
      "Epoch 63/100\n",
      " - 6s - loss: 76836.3540\n",
      "Epoch 64/100\n",
      " - 6s - loss: 75212.1076\n",
      "Epoch 65/100\n",
      " - 5s - loss: 75226.0902\n",
      "Epoch 66/100\n",
      " - 6s - loss: 75071.2132\n",
      "Epoch 67/100\n",
      " - 6s - loss: 77740.6621\n",
      "Epoch 68/100\n",
      " - 4s - loss: 72975.3463\n",
      "Epoch 69/100\n",
      " - 6s - loss: 71477.8550\n",
      "Epoch 70/100\n",
      " - 6s - loss: 72619.3777\n",
      "Epoch 71/100\n",
      " - 4s - loss: 75138.8506\n",
      "Epoch 72/100\n",
      " - 6s - loss: 70860.9415\n",
      "Epoch 73/100\n",
      " - 6s - loss: 74232.4693\n",
      "Epoch 74/100\n",
      " - 5s - loss: 69827.7363\n",
      "Epoch 75/100\n",
      " - 5s - loss: 69907.1553\n",
      "Epoch 76/100\n",
      " - 6s - loss: 70409.7370\n",
      "Epoch 77/100\n",
      " - 5s - loss: 73085.4618\n",
      "Epoch 78/100\n",
      " - 6s - loss: 69666.8690\n",
      "Epoch 79/100\n",
      " - 6s - loss: 68698.1842\n",
      "Epoch 80/100\n",
      " - 4s - loss: 67211.2392\n",
      "Epoch 81/100\n",
      " - 6s - loss: 69221.2633\n",
      "Epoch 82/100\n",
      " - 6s - loss: 67602.1876\n",
      "Epoch 83/100\n",
      " - 4s - loss: 69898.6646\n",
      "Epoch 84/100\n",
      " - 6s - loss: 68505.6873\n",
      "Epoch 85/100\n",
      " - 6s - loss: 66980.5927\n",
      "Epoch 86/100\n",
      " - 5s - loss: 66465.5035\n",
      "Epoch 87/100\n",
      " - 5s - loss: 65861.1730\n",
      "Epoch 88/100\n",
      " - 6s - loss: 65935.3692\n",
      "Epoch 89/100\n",
      " - 5s - loss: 67548.8496\n",
      "Epoch 90/100\n",
      " - 6s - loss: 63850.2703\n",
      "Epoch 91/100\n",
      " - 6s - loss: 65120.8759\n",
      "Epoch 92/100\n",
      " - 4s - loss: 64292.3722\n",
      "Epoch 93/100\n",
      " - 5s - loss: 64589.8920\n",
      "Epoch 94/100\n",
      " - 6s - loss: 62745.8262\n",
      "Epoch 95/100\n",
      " - 5s - loss: 62638.1144\n",
      "Epoch 96/100\n",
      " - 5s - loss: 63755.7834\n",
      "Epoch 97/100\n",
      " - 6s - loss: 62278.8620\n",
      "Epoch 98/100\n",
      " - 5s - loss: 62002.9417\n",
      "Epoch 99/100\n",
      " - 5s - loss: 61285.0290\n",
      "Epoch 100/100\n",
      " - 6s - loss: 59436.3627\n"
     ]
    },
    {
     "data": {
      "text/plain": [
       "<keras.callbacks.callbacks.History at 0x21e41130d08>"
      ]
     },
     "execution_count": 533,
     "metadata": {},
     "output_type": "execute_result"
    }
   ],
   "source": [
    "model.fit(\n",
    "    trainingdata,\n",
    "    y_train,\n",
    "    epochs=100,\n",
    "    shuffle=True,\n",
    "    verbose=2,\n",
    "    )"
   ]
  },
  {
   "cell_type": "code",
   "execution_count": 535,
   "metadata": {},
   "outputs": [],
   "source": [
    "prediction=model.predict(testingdata)"
   ]
  },
  {
   "cell_type": "code",
   "execution_count": 536,
   "metadata": {},
   "outputs": [
    {
     "data": {
      "text/plain": [
       "array([[ 152.58034 ],\n",
       "       [  52.783722],\n",
       "       [  43.080376],\n",
       "       ...,\n",
       "       [  34.018818],\n",
       "       [  35.817165],\n",
       "       [1199.4489  ]], dtype=float32)"
      ]
     },
     "execution_count": 536,
     "metadata": {},
     "output_type": "execute_result"
    }
   ],
   "source": [
    "prediction"
   ]
  },
  {
   "cell_type": "code",
   "execution_count": null,
   "metadata": {},
   "outputs": [],
   "source": []
  },
  {
   "cell_type": "code",
   "execution_count": null,
   "metadata": {},
   "outputs": [],
   "source": []
  },
  {
   "cell_type": "code",
   "execution_count": null,
   "metadata": {},
   "outputs": [],
   "source": []
  },
  {
   "cell_type": "code",
   "execution_count": null,
   "metadata": {},
   "outputs": [],
   "source": []
  },
  {
   "cell_type": "code",
   "execution_count": null,
   "metadata": {},
   "outputs": [],
   "source": []
  },
  {
   "cell_type": "code",
   "execution_count": null,
   "metadata": {},
   "outputs": [],
   "source": []
  },
  {
   "cell_type": "code",
   "execution_count": null,
   "metadata": {},
   "outputs": [],
   "source": []
  },
  {
   "cell_type": "code",
   "execution_count": null,
   "metadata": {},
   "outputs": [],
   "source": []
  },
  {
   "cell_type": "code",
   "execution_count": null,
   "metadata": {},
   "outputs": [],
   "source": []
  },
  {
   "cell_type": "code",
   "execution_count": null,
   "metadata": {},
   "outputs": [],
   "source": []
  },
  {
   "cell_type": "code",
   "execution_count": null,
   "metadata": {},
   "outputs": [],
   "source": []
  },
  {
   "cell_type": "code",
   "execution_count": null,
   "metadata": {},
   "outputs": [],
   "source": []
  },
  {
   "cell_type": "code",
   "execution_count": null,
   "metadata": {},
   "outputs": [],
   "source": []
  },
  {
   "cell_type": "code",
   "execution_count": null,
   "metadata": {},
   "outputs": [],
   "source": []
  },
  {
   "cell_type": "code",
   "execution_count": null,
   "metadata": {},
   "outputs": [],
   "source": []
  },
  {
   "cell_type": "code",
   "execution_count": null,
   "metadata": {},
   "outputs": [],
   "source": []
  },
  {
   "cell_type": "code",
   "execution_count": null,
   "metadata": {},
   "outputs": [],
   "source": []
  },
  {
   "cell_type": "code",
   "execution_count": null,
   "metadata": {},
   "outputs": [],
   "source": []
  },
  {
   "cell_type": "code",
   "execution_count": null,
   "metadata": {},
   "outputs": [],
   "source": []
  },
  {
   "cell_type": "code",
   "execution_count": null,
   "metadata": {},
   "outputs": [],
   "source": []
  },
  {
   "cell_type": "code",
   "execution_count": null,
   "metadata": {},
   "outputs": [],
   "source": []
  },
  {
   "cell_type": "code",
   "execution_count": null,
   "metadata": {},
   "outputs": [],
   "source": []
  },
  {
   "cell_type": "code",
   "execution_count": null,
   "metadata": {},
   "outputs": [],
   "source": []
  },
  {
   "cell_type": "code",
   "execution_count": null,
   "metadata": {},
   "outputs": [],
   "source": []
  },
  {
   "cell_type": "code",
   "execution_count": null,
   "metadata": {},
   "outputs": [],
   "source": []
  },
  {
   "cell_type": "code",
   "execution_count": null,
   "metadata": {},
   "outputs": [],
   "source": []
  },
  {
   "cell_type": "code",
   "execution_count": null,
   "metadata": {},
   "outputs": [],
   "source": []
  },
  {
   "cell_type": "code",
   "execution_count": null,
   "metadata": {},
   "outputs": [],
   "source": []
  },
  {
   "cell_type": "code",
   "execution_count": null,
   "metadata": {},
   "outputs": [],
   "source": []
  },
  {
   "cell_type": "code",
   "execution_count": null,
   "metadata": {},
   "outputs": [],
   "source": []
  },
  {
   "cell_type": "code",
   "execution_count": null,
   "metadata": {},
   "outputs": [],
   "source": []
  },
  {
   "cell_type": "code",
   "execution_count": null,
   "metadata": {},
   "outputs": [],
   "source": []
  },
  {
   "cell_type": "code",
   "execution_count": null,
   "metadata": {},
   "outputs": [],
   "source": []
  },
  {
   "cell_type": "code",
   "execution_count": null,
   "metadata": {},
   "outputs": [],
   "source": []
  },
  {
   "cell_type": "code",
   "execution_count": null,
   "metadata": {},
   "outputs": [],
   "source": []
  },
  {
   "cell_type": "code",
   "execution_count": null,
   "metadata": {},
   "outputs": [],
   "source": []
  },
  {
   "cell_type": "code",
   "execution_count": null,
   "metadata": {},
   "outputs": [],
   "source": []
  },
  {
   "cell_type": "code",
   "execution_count": null,
   "metadata": {},
   "outputs": [],
   "source": []
  },
  {
   "cell_type": "code",
   "execution_count": null,
   "metadata": {},
   "outputs": [],
   "source": []
  },
  {
   "cell_type": "code",
   "execution_count": null,
   "metadata": {},
   "outputs": [],
   "source": []
  },
  {
   "cell_type": "code",
   "execution_count": null,
   "metadata": {},
   "outputs": [],
   "source": []
  },
  {
   "cell_type": "code",
   "execution_count": null,
   "metadata": {},
   "outputs": [],
   "source": []
  },
  {
   "cell_type": "code",
   "execution_count": null,
   "metadata": {},
   "outputs": [],
   "source": []
  },
  {
   "cell_type": "code",
   "execution_count": null,
   "metadata": {},
   "outputs": [],
   "source": []
  },
  {
   "cell_type": "code",
   "execution_count": null,
   "metadata": {},
   "outputs": [],
   "source": []
  },
  {
   "cell_type": "code",
   "execution_count": null,
   "metadata": {},
   "outputs": [],
   "source": []
  },
  {
   "cell_type": "code",
   "execution_count": null,
   "metadata": {},
   "outputs": [],
   "source": []
  },
  {
   "cell_type": "code",
   "execution_count": null,
   "metadata": {},
   "outputs": [],
   "source": []
  },
  {
   "cell_type": "code",
   "execution_count": null,
   "metadata": {},
   "outputs": [],
   "source": []
  },
  {
   "cell_type": "code",
   "execution_count": null,
   "metadata": {},
   "outputs": [],
   "source": []
  },
  {
   "cell_type": "code",
   "execution_count": null,
   "metadata": {},
   "outputs": [],
   "source": []
  },
  {
   "cell_type": "code",
   "execution_count": null,
   "metadata": {},
   "outputs": [],
   "source": []
  },
  {
   "cell_type": "code",
   "execution_count": null,
   "metadata": {},
   "outputs": [],
   "source": []
  },
  {
   "cell_type": "code",
   "execution_count": null,
   "metadata": {},
   "outputs": [],
   "source": []
  },
  {
   "cell_type": "code",
   "execution_count": null,
   "metadata": {},
   "outputs": [],
   "source": []
  },
  {
   "cell_type": "code",
   "execution_count": null,
   "metadata": {},
   "outputs": [],
   "source": []
  }
 ],
 "metadata": {
  "kernelspec": {
   "display_name": "Python 3",
   "language": "python",
   "name": "python3"
  },
  "language_info": {
   "codemirror_mode": {
    "name": "ipython",
    "version": 3
   },
   "file_extension": ".py",
   "mimetype": "text/x-python",
   "name": "python",
   "nbconvert_exporter": "python",
   "pygments_lexer": "ipython3",
   "version": "3.7.6"
  }
 },
 "nbformat": 4,
 "nbformat_minor": 4
}
